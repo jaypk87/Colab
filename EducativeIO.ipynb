{
  "nbformat": 4,
  "nbformat_minor": 0,
  "metadata": {
    "colab": {
      "name": "EducativeIO.ipynb",
      "provenance": [],
      "toc_visible": true,
      "mount_file_id": "1FnB496VnuCgNKDQ5v-0pLd4AHNAUKr5D",
      "authorship_tag": "ABX9TyNzx+h+2tf/1LwLiqYo///u",
      "include_colab_link": true
    },
    "kernelspec": {
      "name": "python3",
      "display_name": "Python 3"
    },
    "language_info": {
      "name": "python"
    }
  },
  "cells": [
    {
      "cell_type": "markdown",
      "metadata": {
        "id": "view-in-github",
        "colab_type": "text"
      },
      "source": [
        "<a href=\"https://colab.research.google.com/github/jaypk87/Colab/blob/master/EducativeIO.ipynb\" target=\"_parent\"><img src=\"https://colab.research.google.com/assets/colab-badge.svg\" alt=\"Open In Colab\"/></a>"
      ]
    },
    {
      "cell_type": "markdown",
      "source": [
        "## Sliding Window"
      ],
      "metadata": {
        "id": "Cf_jVEuVczAp"
      }
    },
    {
      "cell_type": "markdown",
      "source": [
        "### Maximum sum for sub array of Size K "
      ],
      "metadata": {
        "id": "vWk9igbog0iK"
      }
    },
    {
      "cell_type": "code",
      "source": [
        "## BruteForce approach \n",
        "## Time complexity O(N * K)\n",
        "## Space Complexity O(1) \n",
        "\n",
        "def max_sub_array_of_size_k(k , arr):\n",
        "  window_sum = 0 \n",
        "  max_sum = 0 \n",
        "  for i in range(len(arr) - k + 1):\n",
        "    window_sum = 0\n",
        "    for j in range(i, i+k):\n",
        "      window_sum += arr[j]\n",
        "    max_sum = max(max_sum, window_sum)\n",
        "  return max_sum\n",
        "\n",
        "def main():\n",
        "  print(\"Maximum sum of a subarray of size K: \" + str(max_sub_array_of_size_k(3, [2, 1, 5, 1, 3, 2])))\n",
        "  print(\"Maximum sum of a subarray of size K: \" + str(max_sub_array_of_size_k(2, [2, 3, 4, 1, 5])))\n",
        "\n",
        "\n",
        "main()"
      ],
      "metadata": {
        "colab": {
          "base_uri": "https://localhost:8080/"
        },
        "id": "FzFLGzVZQRT4",
        "outputId": "758d1ed6-d466-4247-d96c-4e9106908cbd"
      },
      "execution_count": 12,
      "outputs": [
        {
          "output_type": "stream",
          "name": "stdout",
          "text": [
            "Maximum sum of a subarray of size K: 9\n",
            "Maximum sum of a subarray of size K: 7\n"
          ]
        }
      ]
    },
    {
      "cell_type": "code",
      "source": [
        "## Sliding Window approach \n",
        "\n",
        "def max_sub_array_of_size_k(k , arr):\n",
        "  window_sum , max_sum = 0 , 0 \n",
        "  window_start = 0 \n",
        "  for window_end in range(len(arr)):\n",
        "    window_sum += arr[window_end]\n",
        "    if window_end >= k-1:\n",
        "      max_sum = max(max_sum, window_sum)\n",
        "      window_sum -= arr[window_start]\n",
        "      window_start += 1 \n",
        "  return max_sum\n",
        "\n",
        "def main():\n",
        "  print(\"Maximum sum of a subarray of size K: \" + str(max_sub_array_of_size_k(3, [2, 1, 5, 1, 3, 2])))\n",
        "  print(\"Maximum sum of a subarray of size K: \" + str(max_sub_array_of_size_k(2, [2, 3, 4, 1, 5])))\n",
        "\n",
        "\n",
        "main()"
      ],
      "metadata": {
        "colab": {
          "base_uri": "https://localhost:8080/"
        },
        "id": "9IgPzYfrSkBz",
        "outputId": "146eabe9-df44-468c-89de-62f7264fc915"
      },
      "execution_count": 4,
      "outputs": [
        {
          "output_type": "stream",
          "name": "stdout",
          "text": [
            "Maximum sum of a subarray of size K: 9\n",
            "Maximum sum of a subarray of size K: 7\n"
          ]
        }
      ]
    },
    {
      "cell_type": "markdown",
      "source": [
        "### Smallest Sub array with Greater Sum "
      ],
      "metadata": {
        "id": "Fol9NdyLgt67"
      }
    },
    {
      "cell_type": "code",
      "source": [
        "def smallest_subarray_sum(s , arr):\n",
        "  window_sum , target_sum = 0 , 0 \n",
        "  window_start = 0 \n",
        "  for window_end in range(len(arr)):\n",
        "    window_sum += arr[window_end]\n",
        "    if window_end >= k-1:\n",
        "      max_sum = max(max_sum, window_sum)\n",
        "      window_sum -= arr[window_start]\n",
        "      window_start += 1 \n",
        "  return max_sum\n",
        "\n",
        "def main():\n",
        "  print(\"Smallest subarray length: \" + str(smallest_subarray_sum(7, [2, 1, 5, 2, 3, 2])))\n",
        "  print(\"Smallest subarray length: \" + str(smallest_subarray_sum(7, [2, 1, 5, 2, 8])))\n",
        "  print(\"Smallest subarray length: \" + str(smallest_subarray_sum(8, [3, 4, 1, 1, 6])))\n",
        "\n",
        "\n",
        "main()"
      ],
      "metadata": {
        "id": "LlSvTy9Lg6Cz"
      },
      "execution_count": null,
      "outputs": []
    },
    {
      "cell_type": "markdown",
      "source": [
        "## Two Pointers"
      ],
      "metadata": {
        "id": "Fb3IW3JkTa6g"
      }
    },
    {
      "cell_type": "markdown",
      "source": [
        "## Fast and Slow Pointers"
      ],
      "metadata": {
        "id": "gfplN7nOTbJW"
      }
    },
    {
      "cell_type": "markdown",
      "source": [
        ""
      ],
      "metadata": {
        "id": "6QQk7ayXTbUW"
      }
    },
    {
      "cell_type": "markdown",
      "source": [
        "## Merge Intervals"
      ],
      "metadata": {
        "id": "2bmtzTOMqtP6"
      }
    },
    {
      "cell_type": "code",
      "execution_count": null,
      "metadata": {
        "colab": {
          "base_uri": "https://localhost:8080/"
        },
        "id": "k_FjuFxodAC8",
        "outputId": "c6e9ff86-29a8-4733-a07c-ee6462d15a7e"
      },
      "outputs": [
        {
          "output_type": "stream",
          "name": "stdout",
          "text": [
            "[]\n",
            "[[1, 6]]\n",
            "[[1, 6], [8, 10]]\n",
            "[[1, 6], [8, 10], [15, 18]]\n"
          ]
        }
      ],
      "source": [
        "from typing import List\n",
        "\n",
        "intervals = [[1,3],[2,6],[8,10],[15,18]]\n",
        "\n",
        "def merge(intervals: List[List[int]]) -> List[List[int]]:\n",
        "    intervals.sort(key=lambda x: x[0])\n",
        "    merged = []\n",
        "    for interval in intervals:\n",
        "        # if the list of merged intervals is empty or if the current\n",
        "        # interval does not overlap with the previous, simply append it.\n",
        "        if not merged or merged[-1][1] < interval[0]:\n",
        "            merged.append(interval)\n",
        "        else:\n",
        "        # otherwise, there is overlap, so we merge the current and previous\n",
        "        # intervals.\n",
        "            merged[-1][1] = max(merged[-1][1], interval[1])\n",
        "    return merged\n",
        "    \n",
        "print(merge(intervals))\n",
        "\n"
      ]
    },
    {
      "cell_type": "code",
      "source": [
        "from typing import List\n",
        "\n",
        "merged=[[1, 6], [8, 10], [15, 18]]\n",
        "\n",
        "merged[-1][1]\n",
        "\n"
      ],
      "metadata": {
        "colab": {
          "base_uri": "https://localhost:8080/"
        },
        "id": "MoZB-jOen9no",
        "outputId": "8a8c8545-24f8-4d49-e2d6-e9809a5ea226"
      },
      "execution_count": null,
      "outputs": [
        {
          "output_type": "execute_result",
          "data": {
            "text/plain": [
              "18"
            ]
          },
          "metadata": {},
          "execution_count": 17
        }
      ]
    },
    {
      "cell_type": "markdown",
      "source": [
        "### Insert Intervals"
      ],
      "metadata": {
        "id": "UJDD2A18q4RH"
      }
    },
    {
      "cell_type": "code",
      "source": [
        "from typing import List\n",
        "\n",
        "def insert(intervals, new_interval):\n",
        "    res = []\n",
        "    for i in range(len(intervals)):\n",
        "      if new_interval[1] < intervals[i][0]:\n",
        "          res.append(new_interval)\n",
        "          return res + intervals[i:]\n",
        "      elif new_interval[1] > intervals[i][0]:\n",
        "          res.append(intervals[i])\n",
        "      else:\n",
        "          new_interval = [ min(new_interval[0], intervals[i][0], max(new_interval[1], intervals[i][1]))]\n",
        "    \n",
        "    res.append(new_interval)\n",
        "    return res\n",
        "\n",
        "def main():\n",
        "  print(\"Intervals after inserting the new interval: \" + str(insert([[1, 3], [5, 7], [8, 12]], [4, 6])))\n",
        "  print(\"Intervals after inserting the new interval: \" + str(insert([[1, 3], [5, 7], [8, 12]], [4, 10])))\n",
        "  print(\"Intervals after inserting the new interval: \" + str(insert([[2, 3], [5, 7]], [1, 4])))\n",
        "\n",
        "main()"
      ],
      "metadata": {
        "colab": {
          "base_uri": "https://localhost:8080/"
        },
        "id": "uDI7zOV-q6sx",
        "outputId": "7f7d4af5-a5c4-4670-d001-e58f1be08291"
      },
      "execution_count": null,
      "outputs": [
        {
          "output_type": "stream",
          "name": "stdout",
          "text": [
            "Intervals after inserting the new interval: [[1, 3], [5, 7], [4, 6], [8, 12]]\n",
            "Intervals after inserting the new interval: [[1, 3], [5, 7], [8, 12], [4, 10]]\n",
            "Intervals after inserting the new interval: [[2, 3], [1, 4], [5, 7]]\n"
          ]
        }
      ]
    },
    {
      "cell_type": "code",
      "source": [
        "print(\"Intervals after inserting the new interval: \")"
      ],
      "metadata": {
        "colab": {
          "base_uri": "https://localhost:8080/"
        },
        "id": "a5yOSOCH3B4l",
        "outputId": "b106a9a1-f44e-4640-ef04-373509e16cef"
      },
      "execution_count": null,
      "outputs": [
        {
          "output_type": "stream",
          "name": "stdout",
          "text": [
            "Intervals after inserting the new interval: \n"
          ]
        }
      ]
    },
    {
      "cell_type": "markdown",
      "source": [
        "## Reverse LinkedList"
      ],
      "metadata": {
        "id": "YCfXvFaN3rnm"
      }
    },
    {
      "cell_type": "markdown",
      "source": [
        "### Inplace Reverse Linked List"
      ],
      "metadata": {
        "id": "Xq8FCOzlUQ2X"
      }
    },
    {
      "cell_type": "code",
      "source": [
        "\n",
        "\n",
        "class Node:\n",
        "  def __init__(self, value, next=None):\n",
        "    self.value = value\n",
        "    self.next = next\n",
        "\n",
        "  def print_list(self):\n",
        "    temp = self\n",
        "    while temp is not None:\n",
        "      print(temp.value, end=\" \")\n",
        "      temp = temp.next\n",
        "    print()\n",
        "\n",
        "\n",
        "def reverse(head):\n",
        "  previous, current, next = None, head, None\n",
        "  while current is not None:\n",
        "    next = current.next  # temporarily store the next node\n",
        "    current.next = previous  # reverse the current node\n",
        "    previous = current  # before we move to the next node, point previous to the current node\n",
        "    current = next  # move on the next node\n",
        "  return previous\n",
        "\n",
        "\n",
        "def main():\n",
        "  head = Node(2)\n",
        "  head.next = Node(4)\n",
        "  head.next.next = Node(6)\n",
        "  head.next.next.next = Node(8)\n",
        "  head.next.next.next.next = Node(10)\n",
        "\n",
        "  print(\"Nodes of original LinkedList are: \", end='')\n",
        "  head.print_list()\n",
        "  result = reverse(head)\n",
        "  print(\"Nodes of reversed LinkedList are: \", end='')\n",
        "  result.print_list()\n",
        "\n",
        "\n",
        "main()\n",
        "\n"
      ],
      "metadata": {
        "colab": {
          "base_uri": "https://localhost:8080/"
        },
        "id": "CqcJAvIQ3y7L",
        "outputId": "68d98eab-0591-4f4e-8a50-5a412743517c"
      },
      "execution_count": null,
      "outputs": [
        {
          "output_type": "stream",
          "name": "stdout",
          "text": [
            "Nodes of original LinkedList are: 2 4 6 8 10 \n",
            "Nodes of reversed LinkedList are: 10 8 6 4 2 \n"
          ]
        }
      ]
    },
    {
      "cell_type": "markdown",
      "source": [
        "## Cyclic Sort"
      ],
      "metadata": {
        "id": "Q7n-K4WU3u9y"
      }
    },
    {
      "cell_type": "markdown",
      "source": [
        "### Find Duplicate Numbers"
      ],
      "metadata": {
        "id": "y833VkFe3z1V"
      }
    },
    {
      "cell_type": "code",
      "source": [
        "def find_duplicate(nums):\n",
        "    i = 0\n",
        "    n = len(nums)\n",
        "    while i < n:\n",
        "        j = nums[i]\n",
        "        if nums[i] < n and nums[i] != nums[j]:\n",
        "            nums[i], nums[j] = nums[j], nums[i]\n",
        "        else:\n",
        "            i += 1\n",
        "    missing_numbers = []\n",
        "    for i in range(n):\n",
        "        if nums[i] != i:\n",
        "            missing_numbers.append(i)\n",
        "    return missing_numbers\n",
        "\n",
        "\n",
        "def main():\n",
        "    print(find_duplicate([1, 4, 4, 3, 2]))\n",
        "    print(find_duplicate([2, 1, 3, 3, 5, 4]))\n",
        "    print(find_duplicate([2, 4, 1, 4, 4]))\n",
        "\n",
        "\n",
        "main()"
      ],
      "metadata": {
        "colab": {
          "base_uri": "https://localhost:8080/"
        },
        "id": "oWzG4M1Y3xH1",
        "outputId": "b90805eb-f876-4880-fadf-50b6420953b6"
      },
      "execution_count": null,
      "outputs": [
        {
          "output_type": "stream",
          "name": "stdout",
          "text": [
            "[0]\n",
            "[0]\n",
            "[0, 3]\n"
          ]
        }
      ]
    },
    {
      "cell_type": "markdown",
      "source": [
        "### Find Missing Number "
      ],
      "metadata": {
        "id": "x0e2RcoM4FOy"
      }
    },
    {
      "cell_type": "code",
      "source": [
        "def find_missing_number(nums):\n",
        "    i = 0\n",
        "    n = len(nums)\n",
        "    while i < n:\n",
        "        j = nums[i]\n",
        "        if nums[i] < n and nums[i] != nums[j]:\n",
        "            nums[i], nums[j] = nums[j], nums[i]\n",
        "        else:\n",
        "            i += 1\n",
        "    for i in range(n):\n",
        "        if nums[i] != i:\n",
        "            return i\n",
        "    return n\n",
        "\n",
        "def main():\n",
        "  print(find_missing_number([4, 0, 3, 1]))\n",
        "  print(find_missing_number([8, 3, 5, 2, 4, 6, 0, 1]))\n",
        "\n",
        "\n",
        "main()\n"
      ],
      "metadata": {
        "colab": {
          "base_uri": "https://localhost:8080/"
        },
        "id": "5CjDngdd4Jeq",
        "outputId": "f0d86efd-75f3-48d8-da69-7da5cb1c8547"
      },
      "execution_count": null,
      "outputs": [
        {
          "output_type": "stream",
          "name": "stdout",
          "text": [
            "2\n",
            "7\n"
          ]
        }
      ]
    },
    {
      "cell_type": "markdown",
      "source": [
        "## Binary Search"
      ],
      "metadata": {
        "id": "C1rcR4D0Tw4f"
      }
    },
    {
      "cell_type": "markdown",
      "source": [
        "##Top K Elements"
      ],
      "metadata": {
        "id": "blXQ58alTw6y"
      }
    },
    {
      "cell_type": "code",
      "source": [
        ""
      ],
      "metadata": {
        "id": "_O-NV7m6UHwD"
      },
      "execution_count": null,
      "outputs": []
    }
  ]
}